{
 "cells": [
  {
   "cell_type": "code",
   "execution_count": 97,
   "id": "073f9534-1023-4d23-b1d0-161744c6f28e",
   "metadata": {},
   "outputs": [],
   "source": [
    "import pandas as pd\n",
    "from datetime import datetime, timedelta"
   ]
  },
  {
   "cell_type": "markdown",
   "id": "fe8814c9-4e34-4855-9a07-16227dbc3988",
   "metadata": {},
   "source": [
    "# Read data from the CSV file"
   ]
  },
  {
   "cell_type": "code",
   "execution_count": 98,
   "id": "74fe809a-4313-4b24-b6d8-a6f0d45e71ae",
   "metadata": {},
   "outputs": [],
   "source": [
    "df = pd.read_csv(\"race_results.csv\", \n",
    "                 parse_dates=[\"date\"], \n",
    "                 date_format=\"%d/%m/%Y\")"
   ]
  },
  {
   "cell_type": "code",
   "execution_count": 99,
   "id": "e9fcc02c-f7b8-40a5-81aa-bb6e0b339e88",
   "metadata": {},
   "outputs": [
    {
     "data": {
      "text/html": [
       "<div>\n",
       "<style scoped>\n",
       "    .dataframe tbody tr th:only-of-type {\n",
       "        vertical-align: middle;\n",
       "    }\n",
       "\n",
       "    .dataframe tbody tr th {\n",
       "        vertical-align: top;\n",
       "    }\n",
       "\n",
       "    .dataframe thead th {\n",
       "        text-align: right;\n",
       "    }\n",
       "</style>\n",
       "<table border=\"1\" class=\"dataframe\">\n",
       "  <thead>\n",
       "    <tr style=\"text-align: right;\">\n",
       "      <th></th>\n",
       "      <th>name</th>\n",
       "      <th>distance</th>\n",
       "      <th>date</th>\n",
       "      <th>city</th>\n",
       "      <th>country</th>\n",
       "      <th>duration</th>\n",
       "    </tr>\n",
       "  </thead>\n",
       "  <tbody>\n",
       "    <tr>\n",
       "      <th>0</th>\n",
       "      <td>Cursa Moritz Sant Antoni</td>\n",
       "      <td>5</td>\n",
       "      <td>2025-01-26</td>\n",
       "      <td>Barcelona</td>\n",
       "      <td>Spain</td>\n",
       "      <td>0:29:19</td>\n",
       "    </tr>\n",
       "    <tr>\n",
       "      <th>1</th>\n",
       "      <td>XIII Cursa Benefica Malalties Minoritaries</td>\n",
       "      <td>5</td>\n",
       "      <td>2025-02-23</td>\n",
       "      <td>Badalona</td>\n",
       "      <td>Spain</td>\n",
       "      <td>0:27:10</td>\n",
       "    </tr>\n",
       "    <tr>\n",
       "      <th>2</th>\n",
       "      <td>Cursa de la Dona Pienda</td>\n",
       "      <td>5</td>\n",
       "      <td>2025-03-23</td>\n",
       "      <td>Pineda de Mar</td>\n",
       "      <td>Spain</td>\n",
       "      <td>0:25:36</td>\n",
       "    </tr>\n",
       "  </tbody>\n",
       "</table>\n",
       "</div>"
      ],
      "text/plain": [
       "                                         name  distance       date  \\\n",
       "0                    Cursa Moritz Sant Antoni         5 2025-01-26   \n",
       "1  XIII Cursa Benefica Malalties Minoritaries         5 2025-02-23   \n",
       "2                     Cursa de la Dona Pienda         5 2025-03-23   \n",
       "\n",
       "            city country duration  \n",
       "0      Barcelona   Spain  0:29:19  \n",
       "1       Badalona   Spain  0:27:10  \n",
       "2  Pineda de Mar   Spain  0:25:36  "
      ]
     },
     "execution_count": 99,
     "metadata": {},
     "output_type": "execute_result"
    }
   ],
   "source": [
    "df"
   ]
  },
  {
   "cell_type": "markdown",
   "id": "f9c8e237-e512-45e7-94fc-92526796f518",
   "metadata": {},
   "source": [
    "# Add columns with durations converted into timedelta and seconds"
   ]
  },
  {
   "cell_type": "code",
   "execution_count": 100,
   "id": "c676abe3-d435-402f-bb1d-4adad7ceba12",
   "metadata": {},
   "outputs": [],
   "source": [
    "def from_str_to_timedelta(row):\n",
    "    duration = datetime.strptime(row[\"duration\"], \"%H:%M:%S\")\n",
    "    duration = timedelta(hours=duration.hour, \n",
    "                         minutes=duration.minute, \n",
    "                         seconds=duration.second)\n",
    "    return duration\n",
    "\n",
    "df[\"duration_timedelta\"] = df.apply(from_str_to_timedelta, axis=1)"
   ]
  },
  {
   "cell_type": "code",
   "execution_count": 104,
   "id": "47e96c25-f86f-4c70-af04-66f40335c337",
   "metadata": {},
   "outputs": [],
   "source": [
    "def from_str_to_sec(row):\n",
    "    duration = datetime.strptime(row[\"duration\"], \"%H:%M:%S\")\n",
    "    duration = timedelta(hours=duration.hour, \n",
    "                         minutes=duration.minute, \n",
    "                         seconds=duration.second).total_seconds()\n",
    "    return duration\n",
    "\n",
    "df[\"duration_sec\"] = df.apply(from_str_to_sec, axis=1)"
   ]
  },
  {
   "cell_type": "code",
   "execution_count": 105,
   "id": "70437926-f2c4-4597-9816-9171588aaacd",
   "metadata": {},
   "outputs": [
    {
     "data": {
      "text/html": [
       "<div>\n",
       "<style scoped>\n",
       "    .dataframe tbody tr th:only-of-type {\n",
       "        vertical-align: middle;\n",
       "    }\n",
       "\n",
       "    .dataframe tbody tr th {\n",
       "        vertical-align: top;\n",
       "    }\n",
       "\n",
       "    .dataframe thead th {\n",
       "        text-align: right;\n",
       "    }\n",
       "</style>\n",
       "<table border=\"1\" class=\"dataframe\">\n",
       "  <thead>\n",
       "    <tr style=\"text-align: right;\">\n",
       "      <th></th>\n",
       "      <th>name</th>\n",
       "      <th>distance</th>\n",
       "      <th>date</th>\n",
       "      <th>city</th>\n",
       "      <th>country</th>\n",
       "      <th>duration</th>\n",
       "      <th>duration_timedelta</th>\n",
       "      <th>duration_sec</th>\n",
       "    </tr>\n",
       "  </thead>\n",
       "  <tbody>\n",
       "    <tr>\n",
       "      <th>0</th>\n",
       "      <td>Cursa Moritz Sant Antoni</td>\n",
       "      <td>5</td>\n",
       "      <td>2025-01-26</td>\n",
       "      <td>Barcelona</td>\n",
       "      <td>Spain</td>\n",
       "      <td>0:29:19</td>\n",
       "      <td>0 days 00:29:19</td>\n",
       "      <td>1759.0</td>\n",
       "    </tr>\n",
       "    <tr>\n",
       "      <th>1</th>\n",
       "      <td>XIII Cursa Benefica Malalties Minoritaries</td>\n",
       "      <td>5</td>\n",
       "      <td>2025-02-23</td>\n",
       "      <td>Badalona</td>\n",
       "      <td>Spain</td>\n",
       "      <td>0:27:10</td>\n",
       "      <td>0 days 00:27:10</td>\n",
       "      <td>1630.0</td>\n",
       "    </tr>\n",
       "    <tr>\n",
       "      <th>2</th>\n",
       "      <td>Cursa de la Dona Pienda</td>\n",
       "      <td>5</td>\n",
       "      <td>2025-03-23</td>\n",
       "      <td>Pineda de Mar</td>\n",
       "      <td>Spain</td>\n",
       "      <td>0:25:36</td>\n",
       "      <td>0 days 00:25:36</td>\n",
       "      <td>1536.0</td>\n",
       "    </tr>\n",
       "  </tbody>\n",
       "</table>\n",
       "</div>"
      ],
      "text/plain": [
       "                                         name  distance       date  \\\n",
       "0                    Cursa Moritz Sant Antoni         5 2025-01-26   \n",
       "1  XIII Cursa Benefica Malalties Minoritaries         5 2025-02-23   \n",
       "2                     Cursa de la Dona Pienda         5 2025-03-23   \n",
       "\n",
       "            city country duration duration_timedelta  duration_sec  \n",
       "0      Barcelona   Spain  0:29:19    0 days 00:29:19        1759.0  \n",
       "1       Badalona   Spain  0:27:10    0 days 00:27:10        1630.0  \n",
       "2  Pineda de Mar   Spain  0:25:36    0 days 00:25:36        1536.0  "
      ]
     },
     "execution_count": 105,
     "metadata": {},
     "output_type": "execute_result"
    }
   ],
   "source": [
    "df"
   ]
  },
  {
   "cell_type": "markdown",
   "id": "a0e44c34-d1d2-4f06-b593-dbfe9d78c304",
   "metadata": {},
   "source": [
    "# Plotting - Solution 2"
   ]
  },
  {
   "cell_type": "code",
   "execution_count": 138,
   "id": "3236ceef-894e-4aa7-b4d1-f2f28eb257a6",
   "metadata": {},
   "outputs": [
    {
     "data": {
      "text/plain": [
       "[1759.0, 1630.0, 1536.0]"
      ]
     },
     "execution_count": 138,
     "metadata": {},
     "output_type": "execute_result"
    }
   ],
   "source": [
    "durations = df[\"duration_sec\"].tolist()\n",
    "durations"
   ]
  },
  {
   "cell_type": "code",
   "execution_count": 132,
   "id": "1a29b848-1938-4a3f-b1e8-3f46109029fb",
   "metadata": {},
   "outputs": [],
   "source": [
    "delta_sec = 20\n",
    "minlim = int(min(durations) - delta_sec)\n",
    "maxlim = int(max(durations) + delta_sec)\n",
    "durations_ticks = range(minlim, maxlim, delta_sec)"
   ]
  },
  {
   "cell_type": "code",
   "execution_count": 133,
   "id": "871cd503-d277-4213-9b01-5311dd1618f0",
   "metadata": {},
   "outputs": [
    {
     "data": {
      "text/plain": [
       "['00:25:16',\n",
       " '00:25:36',\n",
       " '00:25:56',\n",
       " '00:26:16',\n",
       " '00:26:36',\n",
       " '00:26:56',\n",
       " '00:27:16',\n",
       " '00:27:36',\n",
       " '00:27:56',\n",
       " '00:28:16',\n",
       " '00:28:36',\n",
       " '00:28:56',\n",
       " '00:29:16',\n",
       " '00:29:36']"
      ]
     },
     "execution_count": 133,
     "metadata": {},
     "output_type": "execute_result"
    }
   ],
   "source": [
    "durations_labels = []\n",
    "timeZero = datetime(2025,1,1)\n",
    "for duration in durations_ticks:\n",
    "    durations_labels.append((timeZero + timedelta(seconds=duration)).strftime(\"%H:%M:%S\"))\n",
    "durations_labels"
   ]
  },
  {
   "cell_type": "code",
   "execution_count": 134,
   "id": "9786e343-1566-4e12-9e08-6e4c3029e341",
   "metadata": {},
   "outputs": [
    {
     "data": {
      "text/plain": [
       "['2025-01-26', '2025-02-23', '2025-03-23']"
      ]
     },
     "execution_count": 134,
     "metadata": {},
     "output_type": "execute_result"
    }
   ],
   "source": [
    "dates = df[\"date\"].tolist()\n",
    "dates = [date.strftime(\"%Y-%m-%d\") for date in dates]\n",
    "dates"
   ]
  },
  {
   "cell_type": "code",
   "execution_count": 139,
   "id": "c9de22e4-7f53-4c91-a0cf-aee1ac36f667",
   "metadata": {},
   "outputs": [
    {
     "data": {
      "image/png": "[encoded data removed]",
      "text/plain": [
       "<Figure size 640x480 with 1 Axes>"
      ]
     },
     "metadata": {},
     "output_type": "display_data"
    }
   ],
   "source": [
    "import matplotlib.pyplot as plt\n",
    "\n",
    "fig = plt.figure()\n",
    "ax = fig.add_subplot(1,1,1)\n",
    "\n",
    "ax.plot(dates, durations, marker='o')\n",
    "ax.set_yticks(durations_ticks, durations_labels)\n",
    "\n",
    "ax.grid()\n",
    "plt.show()"
   ]
  },
  {
   "cell_type": "markdown",
   "id": "85607716-237f-4b12-8e72-7a1ce9af78bb",
   "metadata": {},
   "source": [
    "# Plotting - Solution 1"
   ]
  },
  {
   "cell_type": "code",
   "execution_count": 62,
   "id": "d5f7c10b-f713-4e81-bd7f-0fcaa3f5e152",
   "metadata": {},
   "outputs": [],
   "source": [
    "dates = df[\"date\"].tolist()\n",
    "dates = [date.strftime(\"%Y-%m-%d\") for date in dates]\n",
    "durations = df[\"duration_timedelta\"].tolist()"
   ]
  },
  {
   "cell_type": "code",
   "execution_count": 63,
   "id": "f7e1dd80-21b2-4fc6-901d-9c1869a99f3a",
   "metadata": {},
   "outputs": [
    {
     "data": {
      "text/plain": [
       "['2025-01-26', '2025-02-23', '2025-03-23']"
      ]
     },
     "execution_count": 63,
     "metadata": {},
     "output_type": "execute_result"
    }
   ],
   "source": [
    "dates"
   ]
  },
  {
   "cell_type": "code",
   "execution_count": 76,
   "id": "cd7bfc36-c8b6-49d8-b128-c0ccd961079c",
   "metadata": {},
   "outputs": [
    {
     "data": {
      "text/plain": [
       "[np.float64(0.02035879629693227),\n",
       " np.float64(0.018865740741603076),\n",
       " np.float64(0.01777777777897427)]"
      ]
     },
     "execution_count": 76,
     "metadata": {},
     "output_type": "execute_result"
    }
   ],
   "source": [
    "import matplotlib.dates as mdates\n",
    "\n",
    "zero = datetime(2025,1,1)\n",
    "time = [zero + t for t in durations]\n",
    "zero = mdates.date2num(zero)\n",
    "time = [t-zero for t in mdates.date2num(time)]\n",
    "time"
   ]
  },
  {
   "cell_type": "code",
   "execution_count": 85,
   "id": "bbe7681f-28ae-4ace-b518-be25051f9993",
   "metadata": {},
   "outputs": [
    {
     "data": {
      "text/plain": [
       "np.float64(0.00011574074233067222)"
      ]
     },
     "execution_count": 85,
     "metadata": {},
     "output_type": "execute_result"
    }
   ],
   "source": [
    "division = mdates.date2num(datetime(2025,1,1) + timedelta(seconds=10)) - zero\n",
    "division"
   ]
  },
  {
   "cell_type": "code",
   "execution_count": 94,
   "id": "7e22390c-8410-4624-a5b1-30db8a8aa51e",
   "metadata": {},
   "outputs": [
    {
     "data": {
      "text/plain": [
       "array([0.01766204, 0.01777778, 0.01789352, 0.01800926, 0.018125  ,\n",
       "       0.01824074, 0.01835648, 0.01847222, 0.01858796, 0.0187037 ,\n",
       "       0.01881944, 0.01893519, 0.01905093, 0.01916667, 0.01928241,\n",
       "       0.01939815, 0.01951389, 0.01962963, 0.01974537, 0.01986111,\n",
       "       0.01997685, 0.02009259, 0.02020833, 0.02032407, 0.02043981])"
      ]
     },
     "execution_count": 94,
     "metadata": {},
     "output_type": "execute_result"
    }
   ],
   "source": [
    "range_yticks = np.arange(min(time) - division, max(time) + division, division)\n",
    "range_yticks"
   ]
  },
  {
   "cell_type": "code",
   "execution_count": 96,
   "id": "ec45e373-9b9c-4ce0-82aa-064756ed4193",
   "metadata": {},
   "outputs": [
    {
     "ename": "AttributeError",
     "evalue": "'numpy.ndarray' object has no attribute 'tostring'",
     "output_type": "error",
     "traceback": [
      "\u001b[31m---------------------------------------------------------------------------\u001b[39m",
      "\u001b[31mAttributeError\u001b[39m                            Traceback (most recent call last)",
      "\u001b[36mCell\u001b[39m\u001b[36m \u001b[39m\u001b[32mIn[96]\u001b[39m\u001b[32m, line 9\u001b[39m\n\u001b[32m      7\u001b[39m ax.set_ylim(\u001b[32m0.015\u001b[39m, \u001b[32m0.021\u001b[39m)\n\u001b[32m      8\u001b[39m ax.yaxis_date()\n\u001b[32m----> \u001b[39m\u001b[32m9\u001b[39m ax.set_yticks(range_yticks, \u001b[43mrange_yticks\u001b[49m\u001b[43m.\u001b[49m\u001b[43mtostring\u001b[49m())\n\u001b[32m     10\u001b[39m ax.yaxis.set_major_formatter(mdates.DateFormatter(\u001b[33m\"\u001b[39m\u001b[33m%\u001b[39m\u001b[33mH:\u001b[39m\u001b[33m%\u001b[39m\u001b[33mM:\u001b[39m\u001b[33m%\u001b[39m\u001b[33mS\u001b[39m\u001b[33m\"\u001b[39m))\n\u001b[32m     11\u001b[39m ax.set_xticks(dates, dates, rotation=\u001b[32m45\u001b[39m)\n",
      "\u001b[31mAttributeError\u001b[39m: 'numpy.ndarray' object has no attribute 'tostring'"
     ]
    },
    {
     "data": {
      "image/png": "[encoded data removed]",
      "text/plain": [
       "<Figure size 640x480 with 1 Axes>"
      ]
     },
     "metadata": {},
     "output_type": "display_data"
    }
   ],
   "source": [
    "import matplotlib.pyplot as plt\n",
    "import numpy as np\n",
    "\n",
    "fig = plt.figure()\n",
    "ax = fig.add_subplot(1,1,1)\n",
    "ax.plot(dates, time, marker='o')\n",
    "ax.set_ylim(0.015, 0.021)\n",
    "ax.yaxis_date()\n",
    "ax.set_yticks(range_yticks, range_yticks.tostring())\n",
    "ax.yaxis.set_major_formatter(mdates.DateFormatter(\"%H:%M:%S\"))\n",
    "ax.set_xticks(dates, dates, rotation=45)\n",
    "\n",
    "ax.grid()\n",
    "plt.show()"
   ]
  },
  {
   "cell_type": "code",
   "execution_count": null,
   "id": "0e37eba3-d80f-402b-bf53-ef70e297d601",
   "metadata": {},
   "outputs": [],
   "source": []
  }
 ],
 "metadata": {
  "kernelspec": {
   "display_name": "Python 3 (ipykernel)",
   "language": "python",
   "name": "python3"
  },
  "language_info": {
   "codemirror_mode": {
    "name": "ipython",
    "version": 3
   },
   "file_extension": ".py",
   "mimetype": "text/x-python",
   "name": "python",
   "nbconvert_exporter": "python",
   "pygments_lexer": "ipython3",
   "version": "3.13.0"
  }
 },
 "nbformat": 4,
 "nbformat_minor": 5
}
