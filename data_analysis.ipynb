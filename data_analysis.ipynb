{
 "cells": [
  {
   "cell_type": "code",
   "execution_count": 1,
   "id": "073f9534-1023-4d23-b1d0-161744c6f28e",
   "metadata": {},
   "outputs": [],
   "source": [
    "import pandas as pd\n",
    "from datetime import datetime, timedelta\n",
    "import numpy as np\n",
    "import gpxpy\n",
    "import haversine"
   ]
  },
  {
   "cell_type": "markdown",
   "id": "fe8814c9-4e34-4855-9a07-16227dbc3988",
   "metadata": {},
   "source": [
    "# Read data from the CSV file"
   ]
  },
  {
   "cell_type": "code",
   "execution_count": 2,
   "id": "74fe809a-4313-4b24-b6d8-a6f0d45e71ae",
   "metadata": {},
   "outputs": [],
   "source": [
    "df = pd.read_csv(\"race_results.csv\", \n",
    "                 parse_dates=[\"date\"], \n",
    "                 date_format=\"%Y-%m-%d\")"
   ]
  },
  {
   "cell_type": "code",
   "execution_count": 3,
   "id": "e9fcc02c-f7b8-40a5-81aa-bb6e0b339e88",
   "metadata": {},
   "outputs": [
    {
     "data": {
      "text/html": [
       "<div>\n",
       "<style scoped>\n",
       "    .dataframe tbody tr th:only-of-type {\n",
       "        vertical-align: middle;\n",
       "    }\n",
       "\n",
       "    .dataframe tbody tr th {\n",
       "        vertical-align: top;\n",
       "    }\n",
       "\n",
       "    .dataframe thead th {\n",
       "        text-align: right;\n",
       "    }\n",
       "</style>\n",
       "<table border=\"1\" class=\"dataframe\">\n",
       "  <thead>\n",
       "    <tr style=\"text-align: right;\">\n",
       "      <th></th>\n",
       "      <th>name</th>\n",
       "      <th>distance</th>\n",
       "      <th>date</th>\n",
       "      <th>city</th>\n",
       "      <th>country</th>\n",
       "      <th>duration</th>\n",
       "      <th>lat</th>\n",
       "      <th>lon</th>\n",
       "      <th>gpxfilename</th>\n",
       "    </tr>\n",
       "  </thead>\n",
       "  <tbody>\n",
       "    <tr>\n",
       "      <th>0</th>\n",
       "      <td>Cursa Moritz Sant Antoni</td>\n",
       "      <td>5</td>\n",
       "      <td>2025-01-26</td>\n",
       "      <td>Barcelona</td>\n",
       "      <td>Spain</td>\n",
       "      <td>0:29:19</td>\n",
       "      <td>41.377388</td>\n",
       "      <td>2.156912</td>\n",
       "      <td>Cursa_Moritz_Sant_Antoni_5km_2025.gpx</td>\n",
       "    </tr>\n",
       "    <tr>\n",
       "      <th>1</th>\n",
       "      <td>XIII Cursa Benefica Malalties Minoritaries</td>\n",
       "      <td>5</td>\n",
       "      <td>2025-02-23</td>\n",
       "      <td>Badalona</td>\n",
       "      <td>Spain</td>\n",
       "      <td>0:27:10</td>\n",
       "      <td>41.448694</td>\n",
       "      <td>2.252070</td>\n",
       "      <td>Cursa_Benèfica_Malalties_Minoritàries_Badalona...</td>\n",
       "    </tr>\n",
       "    <tr>\n",
       "      <th>2</th>\n",
       "      <td>Cursa de la Dona Pienda</td>\n",
       "      <td>5</td>\n",
       "      <td>2025-03-23</td>\n",
       "      <td>Pineda de Mar</td>\n",
       "      <td>Spain</td>\n",
       "      <td>0:25:36</td>\n",
       "      <td>41.622810</td>\n",
       "      <td>2.676377</td>\n",
       "      <td>Cursa_de_la_Dona_Pineda_de_Mar_5_Km.gpx</td>\n",
       "    </tr>\n",
       "    <tr>\n",
       "      <th>3</th>\n",
       "      <td>15a Cursa Nocturna de L'Hospitalet</td>\n",
       "      <td>5</td>\n",
       "      <td>2025-04-05</td>\n",
       "      <td>L'Hospitalet de Llobregat</td>\n",
       "      <td>Spain</td>\n",
       "      <td>0:25:40</td>\n",
       "      <td>41.356897</td>\n",
       "      <td>2.125731</td>\n",
       "      <td>Cursa_Nocturna_de_L_Hospitalet_5_Km.gpx</td>\n",
       "    </tr>\n",
       "    <tr>\n",
       "      <th>4</th>\n",
       "      <td>Cursa Montilivi Girona</td>\n",
       "      <td>5</td>\n",
       "      <td>2025-04-27</td>\n",
       "      <td>Girona</td>\n",
       "      <td>Spain</td>\n",
       "      <td>0:28:49</td>\n",
       "      <td>41.960944</td>\n",
       "      <td>2.827218</td>\n",
       "      <td>Cursa_Montilivi_Girona_5_Km.gpx</td>\n",
       "    </tr>\n",
       "    <tr>\n",
       "      <th>5</th>\n",
       "      <td>La Cursa de RAC1 Port de Barcelona</td>\n",
       "      <td>6</td>\n",
       "      <td>2025-05-18</td>\n",
       "      <td>Barcelona</td>\n",
       "      <td>Spain</td>\n",
       "      <td>0:30:04</td>\n",
       "      <td>41.375038</td>\n",
       "      <td>2.178087</td>\n",
       "      <td>Cursa_de_RAC1_Port_de_Barcelona_6Km.gpx</td>\n",
       "    </tr>\n",
       "    <tr>\n",
       "      <th>6</th>\n",
       "      <td>14a Cursa Popular Illa Carlemany</td>\n",
       "      <td>5</td>\n",
       "      <td>2025-06-01</td>\n",
       "      <td>Andorra la Vella</td>\n",
       "      <td>Andorra</td>\n",
       "      <td>0:25:12</td>\n",
       "      <td>42.509189</td>\n",
       "      <td>1.534211</td>\n",
       "      <td>Cursa_Popular_Illa_Carlemany_Andorra_5_Km.gpx</td>\n",
       "    </tr>\n",
       "  </tbody>\n",
       "</table>\n",
       "</div>"
      ],
      "text/plain": [
       "                                         name  distance       date  \\\n",
       "0                    Cursa Moritz Sant Antoni         5 2025-01-26   \n",
       "1  XIII Cursa Benefica Malalties Minoritaries         5 2025-02-23   \n",
       "2                     Cursa de la Dona Pienda         5 2025-03-23   \n",
       "3          15a Cursa Nocturna de L'Hospitalet         5 2025-04-05   \n",
       "4                      Cursa Montilivi Girona         5 2025-04-27   \n",
       "5          La Cursa de RAC1 Port de Barcelona         6 2025-05-18   \n",
       "6            14a Cursa Popular Illa Carlemany         5 2025-06-01   \n",
       "\n",
       "                        city  country duration        lat       lon  \\\n",
       "0                  Barcelona    Spain  0:29:19  41.377388  2.156912   \n",
       "1                   Badalona    Spain  0:27:10  41.448694  2.252070   \n",
       "2              Pineda de Mar    Spain  0:25:36  41.622810  2.676377   \n",
       "3  L'Hospitalet de Llobregat    Spain  0:25:40  41.356897  2.125731   \n",
       "4                     Girona    Spain  0:28:49  41.960944  2.827218   \n",
       "5                  Barcelona    Spain  0:30:04  41.375038  2.178087   \n",
       "6           Andorra la Vella  Andorra  0:25:12  42.509189  1.534211   \n",
       "\n",
       "                                         gpxfilename  \n",
       "0              Cursa_Moritz_Sant_Antoni_5km_2025.gpx  \n",
       "1  Cursa_Benèfica_Malalties_Minoritàries_Badalona...  \n",
       "2            Cursa_de_la_Dona_Pineda_de_Mar_5_Km.gpx  \n",
       "3            Cursa_Nocturna_de_L_Hospitalet_5_Km.gpx  \n",
       "4                    Cursa_Montilivi_Girona_5_Km.gpx  \n",
       "5            Cursa_de_RAC1_Port_de_Barcelona_6Km.gpx  \n",
       "6      Cursa_Popular_Illa_Carlemany_Andorra_5_Km.gpx  "
      ]
     },
     "execution_count": 3,
     "metadata": {},
     "output_type": "execute_result"
    }
   ],
   "source": [
    "df"
   ]
  },
  {
   "cell_type": "code",
   "execution_count": 4,
   "id": "3f97bfa3-8552-4d87-b38a-87bd1d9b2f30",
   "metadata": {},
   "outputs": [
    {
     "data": {
      "text/plain": [
       "name                   object\n",
       "distance                int64\n",
       "date           datetime64[ns]\n",
       "city                   object\n",
       "country                object\n",
       "duration               object\n",
       "lat                   float64\n",
       "lon                   float64\n",
       "gpxfilename            object\n",
       "dtype: object"
      ]
     },
     "execution_count": 4,
     "metadata": {},
     "output_type": "execute_result"
    }
   ],
   "source": [
    "df.dtypes"
   ]
  },
  {
   "cell_type": "markdown",
   "id": "f9c8e237-e512-45e7-94fc-92526796f518",
   "metadata": {},
   "source": [
    "# Add columns with duration converted into timedelta and seconds"
   ]
  },
  {
   "cell_type": "code",
   "execution_count": 72,
   "id": "3c01ffd8-438e-4c1e-a9d4-eac7aae90e64",
   "metadata": {},
   "outputs": [],
   "source": [
    "df = df.rename(columns={\"duration\": \"duration_total_timedelta\"})"
   ]
  },
  {
   "cell_type": "code",
   "execution_count": 73,
   "id": "c676abe3-d435-402f-bb1d-4adad7ceba12",
   "metadata": {},
   "outputs": [],
   "source": [
    "def from_str_to_timedelta(row):\n",
    "    duration = datetime.strptime(row[\"duration_total_timedelta\"], \"%H:%M:%S\")\n",
    "    duration = timedelta(hours=duration.hour, \n",
    "                         minutes=duration.minute, \n",
    "                         seconds=duration.second)\n",
    "    return duration\n",
    "\n",
    "df[\"duration_total_timedelta\"] = df.apply(from_str_to_timedelta, axis=1)"
   ]
  },
  {
   "cell_type": "code",
   "execution_count": 85,
   "id": "47e96c25-f86f-4c70-af04-66f40335c337",
   "metadata": {},
   "outputs": [],
   "source": [
    "df[\"duration_total_sec\"] = df.apply(lambda row: row[\"duration_total_timedelta\"].seconds, axis=1)"
   ]
  },
  {
   "cell_type": "code",
   "execution_count": 86,
   "id": "70437926-f2c4-4597-9816-9171588aaacd",
   "metadata": {},
   "outputs": [
    {
     "data": {
      "text/html": [
       "<div>\n",
       "<style scoped>\n",
       "    .dataframe tbody tr th:only-of-type {\n",
       "        vertical-align: middle;\n",
       "    }\n",
       "\n",
       "    .dataframe tbody tr th {\n",
       "        vertical-align: top;\n",
       "    }\n",
       "\n",
       "    .dataframe thead th {\n",
       "        text-align: right;\n",
       "    }\n",
       "</style>\n",
       "<table border=\"1\" class=\"dataframe\">\n",
       "  <thead>\n",
       "    <tr style=\"text-align: right;\">\n",
       "      <th></th>\n",
       "      <th>name</th>\n",
       "      <th>distance</th>\n",
       "      <th>date</th>\n",
       "      <th>city</th>\n",
       "      <th>country</th>\n",
       "      <th>duration_total_timedelta</th>\n",
       "      <th>duration_total_sec</th>\n",
       "      <th>duration_km_timedelta</th>\n",
       "      <th>duration_km_sec</th>\n",
       "      <th>duration_km_timedelta_str</th>\n",
       "    </tr>\n",
       "  </thead>\n",
       "  <tbody>\n",
       "    <tr>\n",
       "      <th>0</th>\n",
       "      <td>Cursa Moritz Sant Antoni</td>\n",
       "      <td>5</td>\n",
       "      <td>2025-01-26</td>\n",
       "      <td>Barcelona</td>\n",
       "      <td>Spain</td>\n",
       "      <td>0 days 00:29:19</td>\n",
       "      <td>1759</td>\n",
       "      <td>0 days 00:05:51.800000</td>\n",
       "      <td>351.8</td>\n",
       "      <td>0 days 00:05:51.800000</td>\n",
       "    </tr>\n",
       "    <tr>\n",
       "      <th>1</th>\n",
       "      <td>XIII Cursa Benefica Malalties Minoritaries</td>\n",
       "      <td>5</td>\n",
       "      <td>2025-02-23</td>\n",
       "      <td>Badalona</td>\n",
       "      <td>Spain</td>\n",
       "      <td>0 days 00:27:10</td>\n",
       "      <td>1630</td>\n",
       "      <td>0 days 00:05:26</td>\n",
       "      <td>326.0</td>\n",
       "      <td>0 days 00:05:26</td>\n",
       "    </tr>\n",
       "    <tr>\n",
       "      <th>2</th>\n",
       "      <td>Cursa de la Dona Pienda</td>\n",
       "      <td>5</td>\n",
       "      <td>2025-03-23</td>\n",
       "      <td>Pineda de Mar</td>\n",
       "      <td>Spain</td>\n",
       "      <td>0 days 00:25:36</td>\n",
       "      <td>1536</td>\n",
       "      <td>0 days 00:05:07.200000</td>\n",
       "      <td>307.2</td>\n",
       "      <td>0 days 00:05:07.200000</td>\n",
       "    </tr>\n",
       "  </tbody>\n",
       "</table>\n",
       "</div>"
      ],
      "text/plain": [
       "                                         name  distance       date  \\\n",
       "0                    Cursa Moritz Sant Antoni         5 2025-01-26   \n",
       "1  XIII Cursa Benefica Malalties Minoritaries         5 2025-02-23   \n",
       "2                     Cursa de la Dona Pienda         5 2025-03-23   \n",
       "\n",
       "            city country duration_total_timedelta  duration_total_sec  \\\n",
       "0      Barcelona   Spain          0 days 00:29:19                1759   \n",
       "1       Badalona   Spain          0 days 00:27:10                1630   \n",
       "2  Pineda de Mar   Spain          0 days 00:25:36                1536   \n",
       "\n",
       "   duration_km_timedelta  duration_km_sec duration_km_timedelta_str  \n",
       "0 0 days 00:05:51.800000            351.8    0 days 00:05:51.800000  \n",
       "1        0 days 00:05:26            326.0           0 days 00:05:26  \n",
       "2 0 days 00:05:07.200000            307.2    0 days 00:05:07.200000  "
      ]
     },
     "execution_count": 86,
     "metadata": {},
     "output_type": "execute_result"
    }
   ],
   "source": [
    "df"
   ]
  },
  {
   "cell_type": "code",
   "execution_count": 87,
   "id": "dad7e6d8-95a6-4d50-bdec-edfc618f7f23",
   "metadata": {},
   "outputs": [
    {
     "data": {
      "text/plain": [
       "name                                  object\n",
       "distance                               int64\n",
       "date                          datetime64[ns]\n",
       "city                                  object\n",
       "country                               object\n",
       "duration_total_timedelta     timedelta64[ns]\n",
       "duration_total_sec                     int64\n",
       "duration_km_timedelta        timedelta64[ns]\n",
       "duration_km_sec                      float64\n",
       "duration_km_timedelta_str    timedelta64[ns]\n",
       "dtype: object"
      ]
     },
     "execution_count": 87,
     "metadata": {},
     "output_type": "execute_result"
    }
   ],
   "source": [
    "df.dtypes"
   ]
  },
  {
   "cell_type": "markdown",
   "id": "5cfd3928-ff5c-4ee6-b0e1-1da6ee5f4b92",
   "metadata": {},
   "source": [
    "# Add column with duration per km in timedelta and seconds"
   ]
  },
  {
   "cell_type": "code",
   "execution_count": 88,
   "id": "6c987a1c-a999-4c16-a7ac-0073a52e0c4d",
   "metadata": {},
   "outputs": [],
   "source": [
    "df[\"duration_km_timedelta\"] = df[\"duration_total_timedelta\"] / df[\"distance\"]\n",
    "df[\"duration_km_sec\"] = df[\"duration_total_sec\"] / df[\"distance\"]"
   ]
  },
  {
   "cell_type": "code",
   "execution_count": 78,
   "id": "9f5b08ab-1cb3-4f4d-9573-5fe8f2518a92",
   "metadata": {},
   "outputs": [
    {
     "data": {
      "text/html": [
       "<div>\n",
       "<style scoped>\n",
       "    .dataframe tbody tr th:only-of-type {\n",
       "        vertical-align: middle;\n",
       "    }\n",
       "\n",
       "    .dataframe tbody tr th {\n",
       "        vertical-align: top;\n",
       "    }\n",
       "\n",
       "    .dataframe thead th {\n",
       "        text-align: right;\n",
       "    }\n",
       "</style>\n",
       "<table border=\"1\" class=\"dataframe\">\n",
       "  <thead>\n",
       "    <tr style=\"text-align: right;\">\n",
       "      <th></th>\n",
       "      <th>name</th>\n",
       "      <th>distance</th>\n",
       "      <th>date</th>\n",
       "      <th>city</th>\n",
       "      <th>country</th>\n",
       "      <th>duration_total_timedelta</th>\n",
       "      <th>duration_total_sec</th>\n",
       "      <th>duration_km_timedelta</th>\n",
       "      <th>duration_km_sec</th>\n",
       "    </tr>\n",
       "  </thead>\n",
       "  <tbody>\n",
       "    <tr>\n",
       "      <th>0</th>\n",
       "      <td>Cursa Moritz Sant Antoni</td>\n",
       "      <td>5</td>\n",
       "      <td>2025-01-26</td>\n",
       "      <td>Barcelona</td>\n",
       "      <td>Spain</td>\n",
       "      <td>0 days 00:29:19</td>\n",
       "      <td>1759.0</td>\n",
       "      <td>0 days 00:05:51.800000</td>\n",
       "      <td>351.8</td>\n",
       "    </tr>\n",
       "    <tr>\n",
       "      <th>1</th>\n",
       "      <td>XIII Cursa Benefica Malalties Minoritaries</td>\n",
       "      <td>5</td>\n",
       "      <td>2025-02-23</td>\n",
       "      <td>Badalona</td>\n",
       "      <td>Spain</td>\n",
       "      <td>0 days 00:27:10</td>\n",
       "      <td>1630.0</td>\n",
       "      <td>0 days 00:05:26</td>\n",
       "      <td>326.0</td>\n",
       "    </tr>\n",
       "    <tr>\n",
       "      <th>2</th>\n",
       "      <td>Cursa de la Dona Pienda</td>\n",
       "      <td>5</td>\n",
       "      <td>2025-03-23</td>\n",
       "      <td>Pineda de Mar</td>\n",
       "      <td>Spain</td>\n",
       "      <td>0 days 00:25:36</td>\n",
       "      <td>1536.0</td>\n",
       "      <td>0 days 00:05:07.200000</td>\n",
       "      <td>307.2</td>\n",
       "    </tr>\n",
       "  </tbody>\n",
       "</table>\n",
       "</div>"
      ],
      "text/plain": [
       "                                         name  distance       date  \\\n",
       "0                    Cursa Moritz Sant Antoni         5 2025-01-26   \n",
       "1  XIII Cursa Benefica Malalties Minoritaries         5 2025-02-23   \n",
       "2                     Cursa de la Dona Pienda         5 2025-03-23   \n",
       "\n",
       "            city country duration_total_timedelta  duration_total_sec  \\\n",
       "0      Barcelona   Spain          0 days 00:29:19              1759.0   \n",
       "1       Badalona   Spain          0 days 00:27:10              1630.0   \n",
       "2  Pineda de Mar   Spain          0 days 00:25:36              1536.0   \n",
       "\n",
       "   duration_km_timedelta  duration_km_sec  \n",
       "0 0 days 00:05:51.800000            351.8  \n",
       "1        0 days 00:05:26            326.0  \n",
       "2 0 days 00:05:07.200000            307.2  "
      ]
     },
     "execution_count": 78,
     "metadata": {},
     "output_type": "execute_result"
    }
   ],
   "source": [
    "df"
   ]
  },
  {
   "cell_type": "code",
   "execution_count": 79,
   "id": "2ac470f2-650d-43e7-939d-46e1dd760e99",
   "metadata": {},
   "outputs": [
    {
     "data": {
      "text/plain": [
       "name                                 object\n",
       "distance                              int64\n",
       "date                         datetime64[ns]\n",
       "city                                 object\n",
       "country                              object\n",
       "duration_total_timedelta    timedelta64[ns]\n",
       "duration_total_sec                  float64\n",
       "duration_km_timedelta       timedelta64[ns]\n",
       "duration_km_sec                     float64\n",
       "dtype: object"
      ]
     },
     "execution_count": 79,
     "metadata": {},
     "output_type": "execute_result"
    }
   ],
   "source": [
    "df.dtypes"
   ]
  },
  {
   "cell_type": "code",
   "execution_count": 95,
   "id": "75dbed5f-24cd-45a6-a0f8-f6b7607e3b8e",
   "metadata": {},
   "outputs": [],
   "source": [
    "df[\"duration_km_timedelta_str\"] = df.apply(lambda row: datetime.strftime(datetime(2025, 1, 1)+row[\"duration_km_timedelta\"], \"%H:%M:%S\"), axis=1)"
   ]
  },
  {
   "cell_type": "code",
   "execution_count": 96,
   "id": "b3614e19-b096-481f-995c-4deb0cffdfee",
   "metadata": {},
   "outputs": [
    {
     "data": {
      "text/html": [
       "<div>\n",
       "<style scoped>\n",
       "    .dataframe tbody tr th:only-of-type {\n",
       "        vertical-align: middle;\n",
       "    }\n",
       "\n",
       "    .dataframe tbody tr th {\n",
       "        vertical-align: top;\n",
       "    }\n",
       "\n",
       "    .dataframe thead th {\n",
       "        text-align: right;\n",
       "    }\n",
       "</style>\n",
       "<table border=\"1\" class=\"dataframe\">\n",
       "  <thead>\n",
       "    <tr style=\"text-align: right;\">\n",
       "      <th></th>\n",
       "      <th>name</th>\n",
       "      <th>distance</th>\n",
       "      <th>date</th>\n",
       "      <th>city</th>\n",
       "      <th>country</th>\n",
       "      <th>duration_total_timedelta</th>\n",
       "      <th>duration_total_sec</th>\n",
       "      <th>duration_km_timedelta</th>\n",
       "      <th>duration_km_sec</th>\n",
       "      <th>duration_km_timedelta_str</th>\n",
       "    </tr>\n",
       "  </thead>\n",
       "  <tbody>\n",
       "    <tr>\n",
       "      <th>0</th>\n",
       "      <td>Cursa Moritz Sant Antoni</td>\n",
       "      <td>5</td>\n",
       "      <td>2025-01-26</td>\n",
       "      <td>Barcelona</td>\n",
       "      <td>Spain</td>\n",
       "      <td>0 days 00:29:19</td>\n",
       "      <td>1759</td>\n",
       "      <td>0 days 00:05:51.800000</td>\n",
       "      <td>351.8</td>\n",
       "      <td>00:05:51</td>\n",
       "    </tr>\n",
       "    <tr>\n",
       "      <th>1</th>\n",
       "      <td>XIII Cursa Benefica Malalties Minoritaries</td>\n",
       "      <td>5</td>\n",
       "      <td>2025-02-23</td>\n",
       "      <td>Badalona</td>\n",
       "      <td>Spain</td>\n",
       "      <td>0 days 00:27:10</td>\n",
       "      <td>1630</td>\n",
       "      <td>0 days 00:05:26</td>\n",
       "      <td>326.0</td>\n",
       "      <td>00:05:26</td>\n",
       "    </tr>\n",
       "    <tr>\n",
       "      <th>2</th>\n",
       "      <td>Cursa de la Dona Pienda</td>\n",
       "      <td>5</td>\n",
       "      <td>2025-03-23</td>\n",
       "      <td>Pineda de Mar</td>\n",
       "      <td>Spain</td>\n",
       "      <td>0 days 00:25:36</td>\n",
       "      <td>1536</td>\n",
       "      <td>0 days 00:05:07.200000</td>\n",
       "      <td>307.2</td>\n",
       "      <td>00:05:07</td>\n",
       "    </tr>\n",
       "  </tbody>\n",
       "</table>\n",
       "</div>"
      ],
      "text/plain": [
       "                                         name  distance       date  \\\n",
       "0                    Cursa Moritz Sant Antoni         5 2025-01-26   \n",
       "1  XIII Cursa Benefica Malalties Minoritaries         5 2025-02-23   \n",
       "2                     Cursa de la Dona Pienda         5 2025-03-23   \n",
       "\n",
       "            city country duration_total_timedelta  duration_total_sec  \\\n",
       "0      Barcelona   Spain          0 days 00:29:19                1759   \n",
       "1       Badalona   Spain          0 days 00:27:10                1630   \n",
       "2  Pineda de Mar   Spain          0 days 00:25:36                1536   \n",
       "\n",
       "   duration_km_timedelta  duration_km_sec duration_km_timedelta_str  \n",
       "0 0 days 00:05:51.800000            351.8                  00:05:51  \n",
       "1        0 days 00:05:26            326.0                  00:05:26  \n",
       "2 0 days 00:05:07.200000            307.2                  00:05:07  "
      ]
     },
     "execution_count": 96,
     "metadata": {},
     "output_type": "execute_result"
    }
   ],
   "source": [
    "df"
   ]
  },
  {
   "cell_type": "code",
   "execution_count": 97,
   "id": "d4e3176f-23ae-488c-b286-9ac98534c8b8",
   "metadata": {},
   "outputs": [
    {
     "data": {
      "text/plain": [
       "0    00:05:51\n",
       "1    00:05:26\n",
       "2    00:05:07\n",
       "Name: duration_km_timedelta_str, dtype: object"
      ]
     },
     "execution_count": 97,
     "metadata": {},
     "output_type": "execute_result"
    }
   ],
   "source": [
    "df[\"duration_km_timedelta_str\"]"
   ]
  },
  {
   "cell_type": "code",
   "execution_count": 110,
   "id": "fc67c362-8e26-451a-b169-699cbe591e7d",
   "metadata": {},
   "outputs": [
    {
     "data": {
      "text/plain": [
       "array([['00:05:51', 'Barcelona'],\n",
       "       ['00:05:26', 'Badalona'],\n",
       "       ['00:05:07', 'Pineda de Mar']], dtype=object)"
      ]
     },
     "execution_count": 110,
     "metadata": {},
     "output_type": "execute_result"
    }
   ],
   "source": [
    "customdata = np.stack((df[\"duration_km_timedelta_str\"], df[\"city\"]), axis=-1)\n",
    "customdata"
   ]
  },
  {
   "cell_type": "code",
   "execution_count": 111,
   "id": "ef2c72d5-6727-4861-8844-de908c2f39cd",
   "metadata": {},
   "outputs": [
    {
     "data": {
      "text/plain": [
       "array([['00:05:51', '00:05:26', '00:05:07'],\n",
       "       ['Barcelona', 'Badalona', 'Pineda de Mar']], dtype=object)"
      ]
     },
     "execution_count": 111,
     "metadata": {},
     "output_type": "execute_result"
    }
   ],
   "source": [
    "np.transpose(customdata)"
   ]
  },
  {
   "cell_type": "code",
   "execution_count": 107,
   "id": "736b7e69-6f43-4e21-b705-bcd109c8d807",
   "metadata": {},
   "outputs": [
    {
     "data": {
      "text/plain": [
       "array(['00:05:51', 'Barcelona'], dtype=object)"
      ]
     },
     "execution_count": 107,
     "metadata": {},
     "output_type": "execute_result"
    }
   ],
   "source": [
    "customdata[0]"
   ]
  },
  {
   "cell_type": "markdown",
   "id": "082e7ac1-2561-48a3-b078-3798ac03f602",
   "metadata": {},
   "source": [
    "# Plotting - Solution 3"
   ]
  },
  {
   "cell_type": "code",
   "execution_count": 98,
   "id": "3d7ee785-0749-40a7-8236-8709f3a94fe6",
   "metadata": {},
   "outputs": [
    {
     "ename": "NameError",
     "evalue": "name 'np' is not defined",
     "output_type": "error",
     "traceback": [
      "\u001b[31m---------------------------------------------------------------------------\u001b[39m",
      "\u001b[31mNameError\u001b[39m                                 Traceback (most recent call last)",
      "\u001b[36mCell\u001b[39m\u001b[36m \u001b[39m\u001b[32mIn[98]\u001b[39m\u001b[32m, line 1\u001b[39m\n\u001b[32m----> \u001b[39m\u001b[32m1\u001b[39m \u001b[43mnp\u001b[49m.dstack((df[\u001b[33m\"\u001b[39m\u001b[33mduration_km_timedelta_str\u001b[39m\u001b[33m\"\u001b[39m], df[\u001b[33m\"\u001b[39m\u001b[33mcity\u001b[39m\u001b[33m\"\u001b[39m]))\n",
      "\u001b[31mNameError\u001b[39m: name 'np' is not defined"
     ]
    }
   ],
   "source": []
  },
  {
   "cell_type": "code",
   "execution_count": 18,
   "id": "9f25881a-d923-43ed-a7db-1454903f4287",
   "metadata": {},
   "outputs": [
    {
     "data": {
      "text/plain": [
       "0    1759.0\n",
       "1    1630.0\n",
       "2    1536.0\n",
       "Name: duration_sec, dtype: float64"
      ]
     },
     "execution_count": 18,
     "metadata": {},
     "output_type": "execute_result"
    }
   ],
   "source": [
    "duration_values = df[\"duration_sec\"]\n",
    "duration_values"
   ]
  },
  {
   "cell_type": "code",
   "execution_count": 12,
   "id": "ef4d32e2-eb96-4566-8cc1-1461ae108ec6",
   "metadata": {},
   "outputs": [],
   "source": [
    "delta_duration = 20\n",
    "min_duration = int(df[\"duration_sec\"].min())\n",
    "max_duration = int(df[\"duration_sec\"].max())\n",
    "duration_ticks = range(min_duration, max_duration, delta_duration)"
   ]
  },
  {
   "cell_type": "code",
   "execution_count": 13,
   "id": "5e9cb14e-4ae9-43aa-b0ac-0cb1b7d0382c",
   "metadata": {},
   "outputs": [
    {
     "data": {
      "text/plain": [
       "['00:25:36',\n",
       " '00:25:56',\n",
       " '00:26:16',\n",
       " '00:26:36',\n",
       " '00:26:56',\n",
       " '00:27:16',\n",
       " '00:27:36',\n",
       " '00:27:56',\n",
       " '00:28:16',\n",
       " '00:28:36',\n",
       " '00:28:56',\n",
       " '00:29:16']"
      ]
     },
     "execution_count": 13,
     "metadata": {},
     "output_type": "execute_result"
    }
   ],
   "source": [
    "duration_labels = []\n",
    "time_zero = datetime(2025,1,1)\n",
    "for tick in duration_ticks:\n",
    "    duration_labels.append((time_zero + timedelta(seconds=tick)).strftime(\"%H:%M:%S\"))\n",
    "duration_labels"
   ]
  },
  {
   "cell_type": "code",
   "execution_count": 16,
   "id": "8bef1e0b-fe2c-4909-9668-0c7707af0f90",
   "metadata": {},
   "outputs": [
    {
     "data": {
      "text/plain": [
       "['2025-01-26', '2025-02-23', '2025-03-23']"
      ]
     },
     "execution_count": 16,
     "metadata": {},
     "output_type": "execute_result"
    }
   ],
   "source": [
    "date_values = [date.strftime(\"%Y-%m-%d\") for date in df[\"date\"]]\n",
    "date_values"
   ]
  },
  {
   "cell_type": "code",
   "execution_count": 19,
   "id": "717e227f-810c-4e06-a47c-a32b578b1ae3",
   "metadata": {},
   "outputs": [
    {
     "data": {
      "image/png": "[encoded data removed]",
      "text/plain": [
       "<Figure size 640x480 with 1 Axes>"
      ]
     },
     "metadata": {},
     "output_type": "display_data"
    }
   ],
   "source": [
    "import matplotlib.pyplot as plt\n",
    "\n",
    "fig = plt.figure()\n",
    "ax = fig.add_subplot(1,1,1)\n",
    "\n",
    "ax.plot(date_values, duration_values, marker='o')\n",
    "ax.set_yticks(duration_ticks, duration_labels)\n",
    "\n",
    "ax.grid()\n",
    "plt.show()"
   ]
  },
  {
   "cell_type": "markdown",
   "id": "a0e44c34-d1d2-4f06-b593-dbfe9d78c304",
   "metadata": {},
   "source": [
    "# Plotting - Solution 2"
   ]
  },
  {
   "cell_type": "code",
   "execution_count": 138,
   "id": "3236ceef-894e-4aa7-b4d1-f2f28eb257a6",
   "metadata": {},
   "outputs": [
    {
     "data": {
      "text/plain": [
       "[1759.0, 1630.0, 1536.0]"
      ]
     },
     "execution_count": 138,
     "metadata": {},
     "output_type": "execute_result"
    }
   ],
   "source": [
    "durations = df[\"duration_sec\"].tolist()\n",
    "durations"
   ]
  },
  {
   "cell_type": "code",
   "execution_count": 132,
   "id": "1a29b848-1938-4a3f-b1e8-3f46109029fb",
   "metadata": {},
   "outputs": [],
   "source": [
    "delta_sec = 20\n",
    "minlim = int(min(durations) - delta_sec)\n",
    "maxlim = int(max(durations) + delta_sec)\n",
    "durations_ticks = range(minlim, maxlim, delta_sec)"
   ]
  },
  {
   "cell_type": "code",
   "execution_count": 133,
   "id": "871cd503-d277-4213-9b01-5311dd1618f0",
   "metadata": {},
   "outputs": [
    {
     "data": {
      "text/plain": [
       "['00:25:16',\n",
       " '00:25:36',\n",
       " '00:25:56',\n",
       " '00:26:16',\n",
       " '00:26:36',\n",
       " '00:26:56',\n",
       " '00:27:16',\n",
       " '00:27:36',\n",
       " '00:27:56',\n",
       " '00:28:16',\n",
       " '00:28:36',\n",
       " '00:28:56',\n",
       " '00:29:16',\n",
       " '00:29:36']"
      ]
     },
     "execution_count": 133,
     "metadata": {},
     "output_type": "execute_result"
    }
   ],
   "source": [
    "durations_labels = []\n",
    "timeZero = datetime(2025,1,1)\n",
    "for duration in durations_ticks:\n",
    "    durations_labels.append((timeZero + timedelta(seconds=duration)).strftime(\"%H:%M:%S\"))\n",
    "durations_labels"
   ]
  },
  {
   "cell_type": "code",
   "execution_count": 134,
   "id": "9786e343-1566-4e12-9e08-6e4c3029e341",
   "metadata": {},
   "outputs": [
    {
     "data": {
      "text/plain": [
       "['2025-01-26', '2025-02-23', '2025-03-23']"
      ]
     },
     "execution_count": 134,
     "metadata": {},
     "output_type": "execute_result"
    }
   ],
   "source": [
    "dates = df[\"date\"].tolist()\n",
    "dates = [date.strftime(\"%Y-%m-%d\") for date in dates]\n",
    "dates"
   ]
  },
  {
   "cell_type": "code",
   "execution_count": 139,
   "id": "c9de22e4-7f53-4c91-a0cf-aee1ac36f667",
   "metadata": {},
   "outputs": [
    {
     "data": {
      "image/png": "[encoded data removed]",
      "text/plain": [
       "<Figure size 640x480 with 1 Axes>"
      ]
     },
     "metadata": {},
     "output_type": "display_data"
    }
   ],
   "source": [
    "import matplotlib.pyplot as plt\n",
    "\n",
    "fig = plt.figure()\n",
    "ax = fig.add_subplot(1,1,1)\n",
    "\n",
    "ax.plot(dates, durations, marker='o')\n",
    "ax.set_yticks(durations_ticks, durations_labels)\n",
    "\n",
    "ax.grid()\n",
    "plt.show()"
   ]
  },
  {
   "cell_type": "markdown",
   "id": "85607716-237f-4b12-8e72-7a1ce9af78bb",
   "metadata": {},
   "source": [
    "# Plotting - Solution 1"
   ]
  },
  {
   "cell_type": "code",
   "execution_count": 62,
   "id": "d5f7c10b-f713-4e81-bd7f-0fcaa3f5e152",
   "metadata": {},
   "outputs": [],
   "source": [
    "dates = df[\"date\"].tolist()\n",
    "dates = [date.strftime(\"%Y-%m-%d\") for date in dates]\n",
    "durations = df[\"duration_timedelta\"].tolist()"
   ]
  },
  {
   "cell_type": "code",
   "execution_count": 63,
   "id": "f7e1dd80-21b2-4fc6-901d-9c1869a99f3a",
   "metadata": {},
   "outputs": [
    {
     "data": {
      "text/plain": [
       "['2025-01-26', '2025-02-23', '2025-03-23']"
      ]
     },
     "execution_count": 63,
     "metadata": {},
     "output_type": "execute_result"
    }
   ],
   "source": [
    "dates"
   ]
  },
  {
   "cell_type": "code",
   "execution_count": 76,
   "id": "cd7bfc36-c8b6-49d8-b128-c0ccd961079c",
   "metadata": {},
   "outputs": [
    {
     "data": {
      "text/plain": [
       "[np.float64(0.02035879629693227),\n",
       " np.float64(0.018865740741603076),\n",
       " np.float64(0.01777777777897427)]"
      ]
     },
     "execution_count": 76,
     "metadata": {},
     "output_type": "execute_result"
    }
   ],
   "source": [
    "import matplotlib.dates as mdates\n",
    "\n",
    "zero = datetime(2025,1,1)\n",
    "time = [zero + t for t in durations]\n",
    "zero = mdates.date2num(zero)\n",
    "time = [t-zero for t in mdates.date2num(time)]\n",
    "time"
   ]
  },
  {
   "cell_type": "code",
   "execution_count": 85,
   "id": "bbe7681f-28ae-4ace-b518-be25051f9993",
   "metadata": {},
   "outputs": [
    {
     "data": {
      "text/plain": [
       "np.float64(0.00011574074233067222)"
      ]
     },
     "execution_count": 85,
     "metadata": {},
     "output_type": "execute_result"
    }
   ],
   "source": [
    "division = mdates.date2num(datetime(2025,1,1) + timedelta(seconds=10)) - zero\n",
    "division"
   ]
  },
  {
   "cell_type": "code",
   "execution_count": 94,
   "id": "7e22390c-8410-4624-a5b1-30db8a8aa51e",
   "metadata": {},
   "outputs": [
    {
     "data": {
      "text/plain": [
       "array([0.01766204, 0.01777778, 0.01789352, 0.01800926, 0.018125  ,\n",
       "       0.01824074, 0.01835648, 0.01847222, 0.01858796, 0.0187037 ,\n",
       "       0.01881944, 0.01893519, 0.01905093, 0.01916667, 0.01928241,\n",
       "       0.01939815, 0.01951389, 0.01962963, 0.01974537, 0.01986111,\n",
       "       0.01997685, 0.02009259, 0.02020833, 0.02032407, 0.02043981])"
      ]
     },
     "execution_count": 94,
     "metadata": {},
     "output_type": "execute_result"
    }
   ],
   "source": [
    "range_yticks = np.arange(min(time) - division, max(time) + division, division)\n",
    "range_yticks"
   ]
  },
  {
   "cell_type": "code",
   "execution_count": 96,
   "id": "ec45e373-9b9c-4ce0-82aa-064756ed4193",
   "metadata": {},
   "outputs": [
    {
     "ename": "AttributeError",
     "evalue": "'numpy.ndarray' object has no attribute 'tostring'",
     "output_type": "error",
     "traceback": [
      "\u001b[31m---------------------------------------------------------------------------\u001b[39m",
      "\u001b[31mAttributeError\u001b[39m                            Traceback (most recent call last)",
      "\u001b[36mCell\u001b[39m\u001b[36m \u001b[39m\u001b[32mIn[96]\u001b[39m\u001b[32m, line 9\u001b[39m\n\u001b[32m      7\u001b[39m ax.set_ylim(\u001b[32m0.015\u001b[39m, \u001b[32m0.021\u001b[39m)\n\u001b[32m      8\u001b[39m ax.yaxis_date()\n\u001b[32m----> \u001b[39m\u001b[32m9\u001b[39m ax.set_yticks(range_yticks, \u001b[43mrange_yticks\u001b[49m\u001b[43m.\u001b[49m\u001b[43mtostring\u001b[49m())\n\u001b[32m     10\u001b[39m ax.yaxis.set_major_formatter(mdates.DateFormatter(\u001b[33m\"\u001b[39m\u001b[33m%\u001b[39m\u001b[33mH:\u001b[39m\u001b[33m%\u001b[39m\u001b[33mM:\u001b[39m\u001b[33m%\u001b[39m\u001b[33mS\u001b[39m\u001b[33m\"\u001b[39m))\n\u001b[32m     11\u001b[39m ax.set_xticks(dates, dates, rotation=\u001b[32m45\u001b[39m)\n",
      "\u001b[31mAttributeError\u001b[39m: 'numpy.ndarray' object has no attribute 'tostring'"
     ]
    },
    {
     "data": {
      "image/png": "[encoded data removed]",
      "text/plain": [
       "<Figure size 640x480 with 1 Axes>"
      ]
     },
     "metadata": {},
     "output_type": "display_data"
    }
   ],
   "source": [
    "import matplotlib.pyplot as plt\n",
    "import numpy as np\n",
    "\n",
    "fig = plt.figure()\n",
    "ax = fig.add_subplot(1,1,1)\n",
    "ax.plot(dates, time, marker='o')\n",
    "ax.set_ylim(0.015, 0.021)\n",
    "ax.yaxis_date()\n",
    "ax.set_yticks(range_yticks, range_yticks.tostring())\n",
    "ax.yaxis.set_major_formatter(mdates.DateFormatter(\"%H:%M:%S\"))\n",
    "ax.set_xticks(dates, dates, rotation=45)\n",
    "\n",
    "ax.grid()\n",
    "plt.show()"
   ]
  },
  {
   "cell_type": "markdown",
   "id": "fdcaa8d1-b6ef-4f47-b83b-5bb19989f245",
   "metadata": {},
   "source": [
    "# Parse the .GPX files"
   ]
  },
  {
   "cell_type": "code",
   "execution_count": 8,
   "id": "a1a25a62-d4d0-4fb1-8e3a-f7a25e4b506c",
   "metadata": {},
   "outputs": [],
   "source": [
    "def parse_gpx_file(filepath):\n",
    "    lat = []\n",
    "    lon = []\n",
    "    elev = []\n",
    "    time = []\n",
    "    gpx_file = open(filepath, 'r')\n",
    "    gpx = gpxpy.parse(gpx_file)\n",
    "    for track in gpx.tracks:\n",
    "        for segment in track.segments:\n",
    "            for point in segment.points:\n",
    "                lat.append(point.latitude)\n",
    "                lon.append(point.longitude)\n",
    "                elev.append(point.elevation)\n",
    "                time.append(point.time)\n",
    "    return lat, lon, elev, time"
   ]
  },
  {
   "cell_type": "code",
   "execution_count": 9,
   "id": "99809202-ac62-4082-af58-f40c9acc5c05",
   "metadata": {},
   "outputs": [],
   "source": [
    "GPX_FILEPATH = 'race_data/'\n",
    "lat, lon, elev, time = parse_gpx_file(GPX_FILEPATH + df[\"gpxfilename\"][0])"
   ]
  },
  {
   "cell_type": "code",
   "execution_count": 33,
   "id": "a1ef3011-f237-407b-aad5-de22f1dca0ca",
   "metadata": {},
   "outputs": [],
   "source": [
    "rhytm = []\n",
    "for idx in range(1, len(lat)):\n",
    "    # Point0: lat[idx - 1], lon[idx - 1], time[idx - 1]\n",
    "    # Point1: lat[idx], lon[idx], time[idx]\n",
    "    dist = haversine.haversine((lat[idx - 1], lon[idx - 1]), (lat[idx], lon[idx]))\n",
    "    timediff = time[idx] - time[idx - 1]\n",
    "    if dist > 0:\n",
    "        rhytm.append(timediff.seconds / dist * (1 / 60))"
   ]
  },
  {
   "cell_type": "code",
   "execution_count": 34,
   "id": "0eeca54f-8f86-4279-8561-d5739e06b9f9",
   "metadata": {},
   "outputs": [
    {
     "data": {
      "image/png": "[encoded data removed]",
      "text/plain": [
       "<Figure size 640x480 with 1 Axes>"
      ]
     },
     "metadata": {},
     "output_type": "display_data"
    }
   ],
   "source": [
    "import matplotlib.pyplot as plt\n",
    "\n",
    "fig = plt.figure()\n",
    "ax = fig.add_subplot(1,1,1)\n",
    "\n",
    "ax.plot(rhytm)\n",
    "\n",
    "ax.grid()\n",
    "plt.show()"
   ]
  },
  {
   "cell_type": "code",
   "execution_count": 35,
   "id": "fdb5fd35-1ab2-4327-a8de-445fead43364",
   "metadata": {},
   "outputs": [
    {
     "data": {
      "text/plain": [
       "8.371623406331409"
      ]
     },
     "execution_count": 35,
     "metadata": {},
     "output_type": "execute_result"
    }
   ],
   "source": [
    "sum(rhytm) / len(rhytm)"
   ]
  },
  {
   "cell_type": "code",
   "execution_count": 44,
   "id": "5692dae3-86c4-4cac-98de-3c86b9f07fac",
   "metadata": {},
   "outputs": [
    {
     "name": "stdout",
     "output_type": "stream",
     "text": [
      "0:08:32\n",
      "0:05:59\n",
      "0:05:53\n",
      "0:05:30\n",
      "0:05:23\n",
      "0:07:21.359831\n"
     ]
    }
   ],
   "source": [
    "dist_total = 0\n",
    "timediff_total_total = 0\n",
    "timediff_total = 0\n",
    "\n",
    "for idx in range(1, len(lat)):\n",
    "    # Point0: lat[idx - 1], lon[idx - 1], time[idx - 1]\n",
    "    # Point1: lat[idx], lon[idx], time[idx]\n",
    "    dist = haversine.haversine((lat[idx - 1], lon[idx - 1]), (lat[idx], lon[idx]))\n",
    "    timediff = time[idx] - time[idx - 1]\n",
    "\n",
    "    dist_total_total += dist\n",
    "    timediff_total_total += timediff.seconds\n",
    "    dist_total += dist\n",
    "    timediff_total += timediff.seconds\n",
    "\n",
    "    if dist_total > 1:\n",
    "        print(timedelta(seconds=timediff_total))\n",
    "        dist_total = 0\n",
    "        timediff_total = 0\n",
    "print(timedelta(seconds=timediff_total / dist_total))"
   ]
  },
  {
   "cell_type": "code",
   "execution_count": 45,
   "id": "e4f2128c-b56a-4144-b042-01bcb4580e6c",
   "metadata": {},
   "outputs": [
    {
     "name": "stdout",
     "output_type": "stream",
     "text": [
      "0:06:17.480321\n"
     ]
    }
   ],
   "source": [
    "print(timedelta(seconds=timediff_total_total / dist_total_total))"
   ]
  },
  {
   "cell_type": "code",
   "execution_count": 60,
   "id": "35e1c3f2-1419-41b8-abe4-156194709b93",
   "metadata": {},
   "outputs": [],
   "source": [
    "df[\"lat_array\"] = None"
   ]
  },
  {
   "cell_type": "code",
   "execution_count": 79,
   "id": "1d1818fb-6ad0-4ad0-a32a-27715a67b388",
   "metadata": {},
   "outputs": [],
   "source": [
    "df.at[0, \"lat_array\"] = np.array(lat)"
   ]
  },
  {
   "cell_type": "code",
   "execution_count": 80,
   "id": "3290bac2-00a6-48a5-93ad-4da8f0df3b7c",
   "metadata": {},
   "outputs": [
    {
     "data": {
      "text/html": [
       "<div>\n",
       "<style scoped>\n",
       "    .dataframe tbody tr th:only-of-type {\n",
       "        vertical-align: middle;\n",
       "    }\n",
       "\n",
       "    .dataframe tbody tr th {\n",
       "        vertical-align: top;\n",
       "    }\n",
       "\n",
       "    .dataframe thead th {\n",
       "        text-align: right;\n",
       "    }\n",
       "</style>\n",
       "<table border=\"1\" class=\"dataframe\">\n",
       "  <thead>\n",
       "    <tr style=\"text-align: right;\">\n",
       "      <th></th>\n",
       "      <th>name</th>\n",
       "      <th>distance</th>\n",
       "      <th>date</th>\n",
       "      <th>city</th>\n",
       "      <th>country</th>\n",
       "      <th>duration</th>\n",
       "      <th>lat</th>\n",
       "      <th>lon</th>\n",
       "      <th>gpxfilename</th>\n",
       "      <th>lat_array</th>\n",
       "    </tr>\n",
       "  </thead>\n",
       "  <tbody>\n",
       "    <tr>\n",
       "      <th>0</th>\n",
       "      <td>Cursa Moritz Sant Antoni</td>\n",
       "      <td>5</td>\n",
       "      <td>2025-01-26</td>\n",
       "      <td>Barcelona</td>\n",
       "      <td>Spain</td>\n",
       "      <td>0:29:19</td>\n",
       "      <td>None</td>\n",
       "      <td>2.156912</td>\n",
       "      <td>Cursa_Moritz_Sant_Antoni_5km_2025.gpx</td>\n",
       "      <td>[41.377388, 41.377388, 41.37739, 41.377391, 41...</td>\n",
       "    </tr>\n",
       "    <tr>\n",
       "      <th>1</th>\n",
       "      <td>XIII Cursa Benefica Malalties Minoritaries</td>\n",
       "      <td>5</td>\n",
       "      <td>2025-02-23</td>\n",
       "      <td>Badalona</td>\n",
       "      <td>Spain</td>\n",
       "      <td>0:27:10</td>\n",
       "      <td>None</td>\n",
       "      <td>2.252070</td>\n",
       "      <td>Cursa_Benèfica_Malalties_Minoritàries_Badalona...</td>\n",
       "      <td>None</td>\n",
       "    </tr>\n",
       "    <tr>\n",
       "      <th>2</th>\n",
       "      <td>Cursa de la Dona Pienda</td>\n",
       "      <td>5</td>\n",
       "      <td>2025-03-23</td>\n",
       "      <td>Pineda de Mar</td>\n",
       "      <td>Spain</td>\n",
       "      <td>0:25:36</td>\n",
       "      <td>None</td>\n",
       "      <td>2.676377</td>\n",
       "      <td>Cursa_de_la_Dona_Pineda_de_Mar_5_Km.gpx</td>\n",
       "      <td>None</td>\n",
       "    </tr>\n",
       "    <tr>\n",
       "      <th>3</th>\n",
       "      <td>15a Cursa Nocturna de L'Hospitalet</td>\n",
       "      <td>5</td>\n",
       "      <td>2025-04-05</td>\n",
       "      <td>L'Hospitalet de Llobregat</td>\n",
       "      <td>Spain</td>\n",
       "      <td>0:25:40</td>\n",
       "      <td>None</td>\n",
       "      <td>2.125731</td>\n",
       "      <td>Cursa_Nocturna_de_L_Hospitalet_5_Km.gpx</td>\n",
       "      <td>None</td>\n",
       "    </tr>\n",
       "    <tr>\n",
       "      <th>4</th>\n",
       "      <td>Cursa Montilivi Girona</td>\n",
       "      <td>5</td>\n",
       "      <td>2025-04-27</td>\n",
       "      <td>Girona</td>\n",
       "      <td>Spain</td>\n",
       "      <td>0:28:49</td>\n",
       "      <td>None</td>\n",
       "      <td>2.827218</td>\n",
       "      <td>Cursa_Montilivi_Girona_5_Km.gpx</td>\n",
       "      <td>None</td>\n",
       "    </tr>\n",
       "    <tr>\n",
       "      <th>5</th>\n",
       "      <td>La Cursa de RAC1 Port de Barcelona</td>\n",
       "      <td>6</td>\n",
       "      <td>2025-05-18</td>\n",
       "      <td>Barcelona</td>\n",
       "      <td>Spain</td>\n",
       "      <td>0:30:04</td>\n",
       "      <td>None</td>\n",
       "      <td>2.178087</td>\n",
       "      <td>Cursa_de_RAC1_Port_de_Barcelona_6Km.gpx</td>\n",
       "      <td>None</td>\n",
       "    </tr>\n",
       "    <tr>\n",
       "      <th>6</th>\n",
       "      <td>14a Cursa Popular Illa Carlemany</td>\n",
       "      <td>5</td>\n",
       "      <td>2025-06-01</td>\n",
       "      <td>Andorra la Vella</td>\n",
       "      <td>Andorra</td>\n",
       "      <td>0:25:12</td>\n",
       "      <td>None</td>\n",
       "      <td>1.534211</td>\n",
       "      <td>Cursa_Popular_Illa_Carlemany_Andorra_5_Km.gpx</td>\n",
       "      <td>None</td>\n",
       "    </tr>\n",
       "  </tbody>\n",
       "</table>\n",
       "</div>"
      ],
      "text/plain": [
       "                                         name  distance       date  \\\n",
       "0                    Cursa Moritz Sant Antoni         5 2025-01-26   \n",
       "1  XIII Cursa Benefica Malalties Minoritaries         5 2025-02-23   \n",
       "2                     Cursa de la Dona Pienda         5 2025-03-23   \n",
       "3          15a Cursa Nocturna de L'Hospitalet         5 2025-04-05   \n",
       "4                      Cursa Montilivi Girona         5 2025-04-27   \n",
       "5          La Cursa de RAC1 Port de Barcelona         6 2025-05-18   \n",
       "6            14a Cursa Popular Illa Carlemany         5 2025-06-01   \n",
       "\n",
       "                        city  country duration   lat       lon  \\\n",
       "0                  Barcelona    Spain  0:29:19  None  2.156912   \n",
       "1                   Badalona    Spain  0:27:10  None  2.252070   \n",
       "2              Pineda de Mar    Spain  0:25:36  None  2.676377   \n",
       "3  L'Hospitalet de Llobregat    Spain  0:25:40  None  2.125731   \n",
       "4                     Girona    Spain  0:28:49  None  2.827218   \n",
       "5                  Barcelona    Spain  0:30:04  None  2.178087   \n",
       "6           Andorra la Vella  Andorra  0:25:12  None  1.534211   \n",
       "\n",
       "                                         gpxfilename  \\\n",
       "0              Cursa_Moritz_Sant_Antoni_5km_2025.gpx   \n",
       "1  Cursa_Benèfica_Malalties_Minoritàries_Badalona...   \n",
       "2            Cursa_de_la_Dona_Pineda_de_Mar_5_Km.gpx   \n",
       "3            Cursa_Nocturna_de_L_Hospitalet_5_Km.gpx   \n",
       "4                    Cursa_Montilivi_Girona_5_Km.gpx   \n",
       "5            Cursa_de_RAC1_Port_de_Barcelona_6Km.gpx   \n",
       "6      Cursa_Popular_Illa_Carlemany_Andorra_5_Km.gpx   \n",
       "\n",
       "                                           lat_array  \n",
       "0  [41.377388, 41.377388, 41.37739, 41.377391, 41...  \n",
       "1                                               None  \n",
       "2                                               None  \n",
       "3                                               None  \n",
       "4                                               None  \n",
       "5                                               None  \n",
       "6                                               None  "
      ]
     },
     "execution_count": 80,
     "metadata": {},
     "output_type": "execute_result"
    }
   ],
   "source": [
    "df"
   ]
  },
  {
   "cell_type": "code",
   "execution_count": 86,
   "id": "f769b1c8-7cd5-4695-b71a-36369bff487a",
   "metadata": {},
   "outputs": [
    {
     "data": {
      "text/plain": [
       "np.float64(41.377388)"
      ]
     },
     "execution_count": 86,
     "metadata": {},
     "output_type": "execute_result"
    }
   ],
   "source": [
    "df.at[0, \"lat_array\"][0]"
   ]
  },
  {
   "cell_type": "code",
   "execution_count": null,
   "id": "866a4862-34d1-4074-849b-482a6fbdf9c4",
   "metadata": {},
   "outputs": [],
   "source": []
  }
 ],
 "metadata": {
  "kernelspec": {
   "display_name": "Python 3 (ipykernel)",
   "language": "python",
   "name": "python3"
  },
  "language_info": {
   "codemirror_mode": {
    "name": "ipython",
    "version": 3
   },
   "file_extension": ".py",
   "mimetype": "text/x-python",
   "name": "python",
   "nbconvert_exporter": "python",
   "pygments_lexer": "ipython3",
   "version": "3.13.3"
  }
 },
 "nbformat": 4,
 "nbformat_minor": 5
}
